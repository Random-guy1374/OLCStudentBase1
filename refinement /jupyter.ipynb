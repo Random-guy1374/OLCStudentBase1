{
 "cells": [
  {
   "cell_type": "code",
   "execution_count": null,
   "id": "45577e58",
   "metadata": {},
   "outputs": [
    {
     "ename": "",
     "evalue": "",
     "output_type": "error",
     "traceback": [
      "\u001b[1;31mRunning cells with 'Python 3.13.5' requires the ipykernel package.\n",
      "\u001b[1;31m<a href='command:jupyter.createPythonEnvAndSelectController'>Create a Python Environment</a> with the required packages."
     ]
    }
   ],
   "source": [
    "book_authors = {\n",
    "    'Winnie the pooh': 'A. A. Milne',\n",
    "    'The tale of peter rabbit': 'Beatrix Potter',\n",
    "    'The wind in the willows': 'Kenneth Grahame',\n",
    "    'The lion, the witch and the wardrobe': 'C. S. Lewis',\n",
    "    'Charlie and the chocolate factory': 'Roald Dahl'\n",
    "}\n",
    "\n",
    "book = input('Please enter the title of a book: ')\n",
    "add = input(\"Would you like to add a book> Y or N: \")\n",
    "amend = input(\"Would you like to change the author of a book? Y or N: \")"
   ]
  },
  {
   "cell_type": "code",
   "execution_count": null,
   "id": "d1c727ca",
   "metadata": {},
   "outputs": [
    {
     "ename": "",
     "evalue": "",
     "output_type": "error",
     "traceback": [
      "\u001b[1;31mRunning cells with 'Python 3.13.5' requires the ipykernel package.\n",
      "\u001b[1;31m<a href='command:jupyter.createPythonEnvAndSelectController'>Create a Python Environment</a> with the required packages."
     ]
    }
   ],
   "source": [
    "print(\"hello world\")"
   ]
  },
  {
   "cell_type": "code",
   "execution_count": null,
   "id": "0a140431",
   "metadata": {},
   "outputs": [],
   "source": [
    "book_authors = {\n",
    "    'Winnie the pooh': 'A. A. Milne',\n",
    "    'The tale of peter rabbit': 'Beatrix Potter',\n",
    "    'The wind in the willows': 'Kenneth Grahame',\n",
    "    'The lion, the witch and the wardrobe': 'C. S. Lewis',\n",
    "    'Charlie and the chocolate factory': 'Roald Dahl'\n",
    "}\n",
    "book = input(\"Please enter the title of a book: \").lower()\n",
    "book = book[0].upper() + book[1:]\n",
    "add = input(\"Would you like to add a book> Y or N: \")\n",
    "amend = input(\"Would you like to change the author of a book? Y or N: \")"
   ]
  },
  {
   "cell_type": "code",
   "execution_count": null,
   "id": "eed57bfd",
   "metadata": {},
   "outputs": [],
   "source": [
    "#3.2\n",
    "book_authors = {\n",
    "    'Winnie the pooh': 'A. A. Milne',\n",
    "    'The tale of peter rabbit': 'Beatrix Potter',\n",
    "    'The wind in the willows': 'Kenneth Grahame',\n",
    "    'The lion, the witch and the wardrobe': 'C. S. Lewis',\n",
    "    'Charlie and the chocolate factory': 'Roald Dahl'\n",
    "}\n",
    "book = input(\"Please enter the title of a book: \").lower()\n",
    "book = book[0].upper() + book[1:]\n",
    "add = input(\"Would you like to add a book> Y or N: \")\n",
    "amend = input(\"Would you like to change the author of a book? Y or N: \")\n",
    "if (book in book_authors) == True:\n",
    "    print(\"The author of the book is\",book_authors[book])"
   ]
  },
  {
   "cell_type": "code",
   "execution_count": null,
   "id": "323430b2",
   "metadata": {},
   "outputs": [
    {
     "ename": "",
     "evalue": "",
     "output_type": "error",
     "traceback": [
      "\u001b[1;31mRunning cells with 'Python 3.13.5' requires the ipykernel package.\n",
      "\u001b[1;31m<a href='command:jupyter.createPythonEnvAndSelectController'>Create a Python Environment</a> with the required packages."
     ]
    }
   ],
   "source": [
    "#3.3\n",
    "book_authors = {\n",
    "    'Winnie the pooh': 'A. A. Milne',\n",
    "    'The tale of peter rabbit': 'Beatrix Potter',\n",
    "    'The wind in the willows': 'Kenneth Grahame',\n",
    "    'The lion, the witch and the wardrobe': 'C. S. Lewis',\n",
    "    'Charlie and the chocolate factory': 'Roald Dahl'\n",
    "}\n",
    "book = input(\"Please enter the title of a book: \").lower()\n",
    "book = book[0].upper() + book[1:]\n",
    "add = input(\"Would you like to add a book> Y or N: \")\n",
    "amend = input(\"Would you like to change the author of a book? Y or N: \")\n",
    "if (book in book_authors) == True:\n",
    "    print(\"The author of the book is\",book_authors[book])\n",
    "else:\n",
    "    add = input(\"Would you like to add a book> Y or N: \").lower()\n",
    "    if add == \"y\":\n",
    "        new_author = input(\"Would you like to change the author of a book? Y or N: \").lower()\n",
    "        book_authors[book] = new_author\n",
    "print(book_authors)"
   ]
  },
  {
   "cell_type": "code",
   "execution_count": null,
   "id": "68686abd",
   "metadata": {},
   "outputs": [],
   "source": [
    "#3.4\n",
    "book_authors = {\n",
    "    'Winnie the pooh': 'A. A. Milne',\n",
    "    'The tale of peter rabbit': 'Beatrix Potter',\n",
    "    'The wind in the willows': 'Kenneth Grahame',\n",
    "    'The lion, the witch and the wardrobe': 'C. S. Lewis',\n",
    "    'Charlie and the chocolate factory': 'Roald Dahl'\n",
    "}\n",
    "book = input(\"Please enter the title of a book: \").lower()\n",
    "book = book[0].upper() + book[1:]\n",
    "add = input(\"Would you like to add a book> Y or N: \")\n",
    "amend = input(\"Would you like to change the author of a book? Y or N: \")\n",
    "if (book in book_authors) == True:\n",
    "    print(\"The author of the book is\",book_authors[book])\n",
    "else:\n",
    "    add = input(\"Would you like to add a book> Y or N: \").lower()\n",
    "    if add == \"y\":\n",
    "        new_author = input(\"Would you like to change the author of a book? Y or N: \").lower()\n",
    "        book_authors[book] = new_author\n",
    "    amend = input(\"Would you like to change the author of a book? Y or N: \").lower()\n",
    "    if amend == \"y\":\n",
    "        new_book = input(\"Please enter the title of a book: \").lower()\n",
    "        amend = input(\"Enter the name of author that you would like to replace\").lower()\n",
    "        if amend == \"\" or amend == \" \":\n",
    "            amend = input(\"Invalid input must enter a name\\nEnter the name of author that you would like to replace\").lower()\n",
    "        if amend.isahpla == False:\n",
    "            amend = input(\"Invalid input must be a letter\\nEnter the name of author that you would like to replace\").lower()\n",
    "        book_authors[new_book] = amend\n",
    "print(book_authors)"
   ]
  }
 ],
 "metadata": {
  "kernelspec": {
   "display_name": "Python 3",
   "language": "python",
   "name": "python3"
  },
  "language_info": {
   "name": "python",
   "version": "3.13.5"
  }
 },
 "nbformat": 4,
 "nbformat_minor": 5
}
